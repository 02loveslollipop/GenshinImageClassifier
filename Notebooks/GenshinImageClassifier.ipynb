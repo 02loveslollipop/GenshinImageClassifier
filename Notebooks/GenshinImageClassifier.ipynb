{
  "cells": [
    {
      "cell_type": "markdown",
      "metadata": {},
      "source": [
        "# Genshin Image Classifier\n",
        "a convolutional neural network (CNN) model to classify images of characters from the game Genshin Impact. The model is trained on a dataset of 20 classes, each representing characters from the game. The dataset is obtained from web scraping images from pixiv.net using it tag search feature."
      ]
    },
    {
      "cell_type": "markdown",
      "metadata": {
        "id": "WgzS86gzpqq0"
      },
      "source": [
        "## Import dependencies"
      ]
    },
    {
      "cell_type": "code",
      "execution_count": 1,
      "metadata": {
        "id": "ryWTeSacpnBr"
      },
      "outputs": [],
      "source": [
        "import torch\n",
        "import torch.nn as nn\n",
        "import torchvision\n",
        "import torchvision.transforms as transforms"
      ]
    },
    {
      "cell_type": "markdown",
      "metadata": {
        "id": "txr6fqmWq-_C"
      },
      "source": [
        "## Check available GPU devices and empty cache"
      ]
    },
    {
      "cell_type": "code",
      "execution_count": 2,
      "metadata": {
        "id": "x_BoSgt8AQci"
      },
      "outputs": [],
      "source": [
        "torch.cuda.empty_cache()"
      ]
    },
    {
      "cell_type": "code",
      "execution_count": 3,
      "metadata": {
        "colab": {
          "base_uri": "https://localhost:8080/"
        },
        "id": "Tk9xZIvNrCzK",
        "outputId": "3790f979-bc79-4a4b-cd08-1f65f508d183"
      },
      "outputs": [
        {
          "name": "stdout",
          "output_type": "stream",
          "text": [
            "GPU 0: NVIDIA GeForce RTX 3050 Laptop GPU (UUID: GPU-fcd7eac7-b588-89f2-ce92-bd0a6029e522)\n"
          ]
        }
      ],
      "source": [
        "!nvidia-smi -L"
      ]
    },
    {
      "cell_type": "markdown",
      "metadata": {
        "id": "vFRQVXafqydh"
      },
      "source": [
        "## Select GPU as device if available\n",
        "select the device for training, if GPU is available, select GPU, otherwise select CPU"
      ]
    },
    {
      "cell_type": "code",
      "execution_count": 4,
      "metadata": {
        "id": "nv7bSbsTqW6s"
      },
      "outputs": [],
      "source": [
        "device = torch.device('cuda:0' if torch.cuda.is_available() else 'cpu') # Select GPU if available, else CPU"
      ]
    },
    {
      "cell_type": "code",
      "execution_count": 5,
      "metadata": {
        "colab": {
          "base_uri": "https://localhost:8080/"
        },
        "id": "xr8JDEM8Gy-w",
        "outputId": "57fe6f0c-bf23-422c-ffd3-91bfad764559"
      },
      "outputs": [
        {
          "name": "stdout",
          "output_type": "stream",
          "text": [
            "cuda:0\n"
          ]
        }
      ],
      "source": [
        "print(device)"
      ]
    },
    {
      "cell_type": "markdown",
      "metadata": {
        "id": "DQMiHNmpszA5"
      },
      "source": [
        "## Mount the Drive unit (Only for Google Colab)"
      ]
    },
    {
      "cell_type": "code",
      "execution_count": 6,
      "metadata": {
        "colab": {
          "base_uri": "https://localhost:8080/"
        },
        "id": "RychxD8TuSpu",
        "outputId": "5d2219f5-e9c6-4f04-d46b-903a917b2b35"
      },
      "outputs": [
        {
          "name": "stdout",
          "output_type": "stream",
          "text": [
            "Mounted at /content/gdrive/\n"
          ]
        }
      ],
      "source": [
        "from google.colab import drive # Mount Google Drive to access dataset\n",
        "drive.mount('/content/gdrive/', force_remount=True)"
      ]
    },
    {
      "cell_type": "markdown",
      "metadata": {
        "id": "Qn7zLTlisOIc"
      },
      "source": [
        "## Define custom torch dataset class\n",
        "the dataset class is used to load the data from the image folders, into a pytorch dataset object. This class is used to load the data into the model for training and validation."
      ]
    },
    {
      "cell_type": "code",
      "execution_count": 6,
      "metadata": {
        "id": "WB3Ub6A1sVOw"
      },
      "outputs": [],
      "source": [
        "import torch\n",
        "from torch.utils.data import Dataset\n",
        "from torchvision.transforms import Compose\n",
        "import os\n",
        "from PIL import Image\n",
        "\n",
        "class GenshinDataSet(Dataset):\n",
        "    def __init__(self, directory: str, transforms: Compose = None) -> None:\n",
        "        self.directory = directory  # path to the dataset directory\n",
        "        self.characters = os.listdir(directory)  # List of characters as folder names\n",
        "        self.transforms = transforms  # Image transformations\n",
        "        self.images = []  # List of image paths\n",
        "        self.labels = []  # List of labels (numerical)\n",
        "\n",
        "        for character in self.characters:  # Loop through the list of characters to get the images and labels\n",
        "            category_path = os.path.join(directory, character)  # Path to the character folder\n",
        "            label = len(self.characters) - 1 - self.characters.index(character)  # Assign numerical label based on character index\n",
        "\n",
        "            for image_file in os.listdir(category_path):  # Loop through the images in the character folder\n",
        "                image_path = os.path.join(category_path, image_file)\n",
        "                self.images.append(Image.open(image_path))\n",
        "                self.labels.append(label)  # Append numerical label\n",
        "\n",
        "    def __getitem__(self, index) -> tuple[any, torch.Tensor]:  # Get the image and label at the specified index\n",
        "        image = self.images[index]  # Get the image\n",
        "        label = self.labels[index]  # Get the label\n",
        "\n",
        "        if image.mode == 'L':  # Check for grayscale mode ('L')\n",
        "                    image = image.convert('RGB')  # Convert to RGB mode\n",
        "\n",
        "        if self.transforms is not None:\n",
        "            image = self.transforms(image)\n",
        "\n",
        "        return image, torch.tensor(label)  # Return the image and label as a tuple (image, torch.Tensor)\n",
        "\n",
        "    def __len__(self) -> int:\n",
        "        return len(self.images)  # Return the number of images in the dataset\n",
        "\n",
        "    def getLabelCount(self) -> int:\n",
        "        return len(self.characters)  # Return the number of characters in the dataset"
      ]
    },
    {
      "cell_type": "markdown",
      "metadata": {
        "id": "pFDHsMo5rrsN"
      },
      "source": [
        "## Create dataset with transforms\n",
        "Create the pytorch dataset class with transforms for the training and validation datasets."
      ]
    },
    {
      "cell_type": "code",
      "execution_count": 7,
      "metadata": {
        "id": "Vul1vuy3V35g"
      },
      "outputs": [],
      "source": [
        "mean = torch.tensor([0.0195, 0.0181, 0.0187]) # Mean values for normalization, get from normalizationParameters.py\n",
        "std = torch.tensor([0.0088, 0.0088, 0.0087]) # Standard deviation values for normalization, get from normalizationParameters.py\n",
        "\n",
        "batch_size = 64 # Batch size (number of images to process at once)"
      ]
    },
    {
      "cell_type": "code",
      "execution_count": 8,
      "metadata": {},
      "outputs": [],
      "source": [
        "# Local training\n",
        "all_transforms = transforms.Compose([transforms.ToTensor(),\n",
        "                                     transforms.Normalize(mean=mean, std=std)\n",
        "                                     ])\n",
        "\n",
        "train_dataset = GenshinDataSet(directory = r'C:\\\\Users\\\\Katana GF66 11UC\\\\Documents\\\\GenshinImageClassifier\\\\processed_images', transforms = all_transforms) # Load the training dataset\n",
        "\n",
        "num_classes = train_dataset.getLabelCount() # Get the number of classes in the dataset\n",
        "\n",
        "test_dataset = GenshinDataSet(directory = r'C:\\\\Users\\\\Katana GF66 11UC\\\\Documents\\\\GenshinImageClassifier\\\\processed_images_test', transforms = all_transforms) # Load the testing dataset\n",
        "\n",
        "train_loader = torch.utils.data.DataLoader(dataset = train_dataset,\n",
        "                                           batch_size = batch_size,\n",
        "                                           shuffle = True) # Instantiate loader objects to facilitate processing\n",
        "\n",
        "test_loader = torch.utils.data.DataLoader(dataset = test_dataset,\n",
        "                                           batch_size = batch_size,\n",
        "                                           shuffle = True) # Instantiate loader objects to facilitate processing"
      ]
    },
    {
      "cell_type": "code",
      "execution_count": 10,
      "metadata": {
        "id": "GV3Y93z8rUBK"
      },
      "outputs": [],
      "source": [
        "# Google Colab training\n",
        "all_transforms = transforms.Compose([transforms.ToTensor(),\n",
        "                                     transforms.Normalize(mean=mean, std=std)\n",
        "                                     ])\n",
        "\n",
        "train_dataset = GenshinDataSet(directory = '/content/gdrive/MyDrive/GenshinImageClassifier/128classifier/processed_images/', transforms = all_transforms) # Load the training dataset\n",
        "\n",
        "num_classes = train_dataset.getLabelCount() # Get the number of classes in the dataset\n",
        "\n",
        "test_dataset = GenshinDataSet(directory = '/content/gdrive/MyDrive/GenshinImageClassifier/128classifier/processed_images_test/', transforms = all_transforms) # Load the testing dataset\n",
        "\n",
        "train_loader = torch.utils.data.DataLoader(dataset = train_dataset,\n",
        "                                           batch_size = batch_size,\n",
        "                                           shuffle = True) # Instantiate loader objects to facilitate processing\n",
        "\n",
        "test_loader = torch.utils.data.DataLoader(dataset = test_dataset,\n",
        "                                           batch_size = batch_size,\n",
        "                                           shuffle = True) # Instantiate loader objects to facilitate processing"
      ]
    },
    {
      "cell_type": "markdown",
      "metadata": {
        "id": "y065LWGRsR6v"
      },
      "source": [
        "## Create the ConvNet Class\n",
        "define the ConvNet class that represents the convolutional neural network model."
      ]
    },
    {
      "cell_type": "code",
      "execution_count": 20,
      "metadata": {
        "id": "Qg5oxIg-sRsa"
      },
      "outputs": [],
      "source": [
        "import torch\n",
        "import torch.nn as nn\n",
        "\n",
        "#input is a 128x128 image with 3 channels (RGB)\n",
        "class ConvNet(nn.Module):\n",
        "  def __init__(self,category_count):\n",
        "    super(ConvNet,self).__init__()\n",
        "    self.convolution_layer1 = nn.Conv2d(in_channels=3,out_channels=32,kernel_size=5) # Convolution layer 1: 3 input channels (RGB), 64 output channels (64 filters), 5x5 kernel size, output size = (128-5)/1 + 1 = 124\n",
        "    self.convolution_layer2 = nn.Conv2d(in_channels=32,out_channels=32,kernel_size=5) # Convolution layer 2: 64 input channels (64 kernels from previous layer), 64 output channels (64 filters), 5x5 kernel size, output size = (124-5)/1 + 1 = 120\n",
        "    self.max_pool = nn.MaxPool2d(kernel_size=2,stride=2) # Max pooling layer: 2x2 kernel size, stride 2 (reduces image size by 2, 120x120 to 60x60)\n",
        "\n",
        "    self.convolution_layer3 = nn.Conv2d(in_channels=32,out_channels=64,kernel_size=3) # Convolution layer 3: 64 input channels (64 kernels from previous layer), 128 output channels (128 filters), 3x3 kernel size, output size = (60-3)/1 + 1 = 58\n",
        "    self.convolution_layer4 = nn.Conv2d(in_channels=64,out_channels=64,kernel_size=3) # Convolution layer 4: 128 input channels (128 kernels from previous layer), 128 output channels (128 filters), 3x3 kernel size, output size = (58-3)/1 + 1 = 56\n",
        "    self.max_pool2 = nn.MaxPool2d(kernel_size=2,stride=2) # Max pooling layer 2: 2x2 kernel size, stride 2 (reduces image size by 2, 64x64 to 32x32), output size = 56/2 = 28\n",
        "    self.convolution_layer5 = nn.Conv2d(in_channels=64,out_channels=128,kernel_size=3) # Convolution layer 5: 128 input channels (128 kernels from previous layer), 256 output channels (256 filters), 3x3 kernel size, output size = (28-3)/1 + 1 = 26\n",
        "    self.convolution_layer6 = nn.Conv2d(in_channels=128,out_channels=128,kernel_size=3) # Convolution layer 6: 256 input channels (256 kernels from previous layer), 256 output channels (256 filters), 3x3 kernel size, output size = (26-3)/1 + 1 = 24\n",
        "    self.max_pool3 = nn.MaxPool2d(kernel_size=2,stride=2) # Max pooling layer 3: 2x2 kernel size, stride 2 (reduces image size by 2, 32x32 to 16x16), output size = 24/2 = 12\n",
        "\n",
        "    self.fully_connected1 = nn.Linear(128*12*12,4096) # Fully connected layer 1: 128*12*12 input features (128 filters from last convolution layer, 12x12 image size), 128 output features\n",
        "    self.relu = nn.ReLU() # ReLU activation function\n",
        "    self.fully_connected2 = nn.Linear(4096,1024) # Fully connected layer 2: 4096 inputs 1024 outputs)\n",
        "    self.relu2 = nn.ReLU() # ReLU activation function\n",
        "    self.fully_connected3 = nn.Linear(1024,512) # Fully connected layer 3: 1024 inputs 512 outputs)\n",
        "    self.relu3 = nn.ReLU() # ReLU activation function\n",
        "    self.fully_connected4 = nn.Linear(512,category_count) # Output layer: linear layer\n",
        "    self.softmax = nn.Softmax(dim=1) # Softmax activation function\n",
        "\n",
        "  def forward(self,x):\n",
        "    output = self.convolution_layer1(x) # Convolution layer 1\n",
        "    #tanh activation function\n",
        "    output = self.tanh(output) # Tanh activation function\n",
        "    output = self.convolution_layer2(output) # Convolution layer 2\n",
        "    output = self.tanh(output) # Tanh activation function\n",
        "    output = self.max_pool(output) # Max pooling layer\n",
        "\n",
        "    output = self.convolution_layer3(output) # Convolution layer 3\n",
        "    output = self.tanh(output) # Tanh activation function\n",
        "    output = self.convolution_layer4(output) # Convolution layer 4\n",
        "    output = self.tanh(output) # Tanh activation function\n",
        "    output = self.max_pool2(output) # Max pooling layer 2\n",
        "\n",
        "    output = self.convolution_layer5(output) # Convolution layer 5\n",
        "    output = self.tanh(output) # Tanh activation function\n",
        "    output = self.convolution_layer6(output) # Convolution layer 6\n",
        "    output = self.tanh(output) # Tanh activation function\n",
        "    output = self.max_pool3(output) # Max pooling layer 3\n",
        "\n",
        "    output = output.reshape(output.size(0),-1) # Flatten the output for the fully connected layer\n",
        "\n",
        "    output = self.fully_connected1(output) # Fully connected layer 1\n",
        "    output = self.relu(output)  # ReLU activation function\n",
        "    output = self.fully_connected2(output) # Fully connected layer 2\n",
        "    output = self.relu2(output) # ReLU activation function\n",
        "    output = self.fully_connected3(output) # Fully connected layer 3\n",
        "    output = self.relu3(output) # ReLU activation function\n",
        "    output = self.fully_connected4(output) # Output layer\n",
        "    output = self.softmax(output) # Softmax activation function\n",
        "    return output"
      ]
    },
    {
      "cell_type": "markdown",
      "metadata": {
        "id": "hghM7VoMB-v9"
      },
      "source": [
        "## Hyperparameters configuration\n",
        "set epochs, learning_rate, num_classes, device, loss function, optimizer and total steps"
      ]
    },
    {
      "cell_type": "code",
      "execution_count": 21,
      "metadata": {
        "id": "8CNOAXoeCC-L"
      },
      "outputs": [],
      "source": [
        "size = 128 # Image resolution for the model input\n",
        "num_epochs = 100 # Number of epochs for training\n",
        "\n",
        "model = ConvNet(num_classes) # Create the model with the number of classes required\n",
        "\n",
        "lossFunction = nn.CrossEntropyLoss() # Set loss function as CrossEntropyLoss\n",
        "\n",
        "optimizer = torch.optim.SGD(model.parameters(), lr=0.005, weight_decay = 0.005, momentum = 0.9) # Set thr optimizer as a Stochastic Gradient Descent with the learning rate, weight decay and momentum\n",
        "\n",
        "total_step = len(train_loader) # Set the total step as the length of the train loader"
      ]
    },
    {
      "cell_type": "markdown",
      "metadata": {
        "id": "8K6wGaOyDC9_"
      },
      "source": [
        "# Entrenamiento"
      ]
    },
    {
      "cell_type": "code",
      "execution_count": 22,
      "metadata": {
        "colab": {
          "base_uri": "https://localhost:8080/"
        },
        "id": "wYCxi2-QCy9J",
        "outputId": "3a84404b-b750-4e6d-ee36-b51623aa3176"
      },
      "outputs": [
        {
          "ename": "AttributeError",
          "evalue": "'ConvNet' object has no attribute 'tanh'",
          "output_type": "error",
          "traceback": [
            "\u001b[1;31m---------------------------------------------------------------------------\u001b[0m",
            "\u001b[1;31mAttributeError\u001b[0m                            Traceback (most recent call last)",
            "Cell \u001b[1;32mIn[22], line 12\u001b[0m\n\u001b[0;32m      9\u001b[0m labels \u001b[38;5;241m=\u001b[39m labels\u001b[38;5;241m.\u001b[39mto(device)\n\u001b[0;32m     11\u001b[0m \u001b[38;5;66;03m# Forward pass\u001b[39;00m\n\u001b[1;32m---> 12\u001b[0m outputs \u001b[38;5;241m=\u001b[39m \u001b[43mmodel\u001b[49m\u001b[43m(\u001b[49m\u001b[43mimages\u001b[49m\u001b[43m)\u001b[49m\n\u001b[0;32m     13\u001b[0m loss \u001b[38;5;241m=\u001b[39m lossFunction(outputs, labels)\n\u001b[0;32m     14\u001b[0m \u001b[38;5;28mprint\u001b[39m(\u001b[38;5;124mf\u001b[39m\u001b[38;5;124m\"\u001b[39m\u001b[38;5;124mloss: \u001b[39m\u001b[38;5;132;01m{\u001b[39;00mloss\u001b[38;5;132;01m}\u001b[39;00m\u001b[38;5;124m\"\u001b[39m)\n",
            "File \u001b[1;32mc:\\Users\\Katana GF66 11UC\\.conda\\envs\\genshinimageclassifierCUDA\\Lib\\site-packages\\torch\\nn\\modules\\module.py:1532\u001b[0m, in \u001b[0;36mModule._wrapped_call_impl\u001b[1;34m(self, *args, **kwargs)\u001b[0m\n\u001b[0;32m   1530\u001b[0m     \u001b[38;5;28;01mreturn\u001b[39;00m \u001b[38;5;28mself\u001b[39m\u001b[38;5;241m.\u001b[39m_compiled_call_impl(\u001b[38;5;241m*\u001b[39margs, \u001b[38;5;241m*\u001b[39m\u001b[38;5;241m*\u001b[39mkwargs)  \u001b[38;5;66;03m# type: ignore[misc]\u001b[39;00m\n\u001b[0;32m   1531\u001b[0m \u001b[38;5;28;01melse\u001b[39;00m:\n\u001b[1;32m-> 1532\u001b[0m     \u001b[38;5;28;01mreturn\u001b[39;00m \u001b[38;5;28;43mself\u001b[39;49m\u001b[38;5;241;43m.\u001b[39;49m\u001b[43m_call_impl\u001b[49m\u001b[43m(\u001b[49m\u001b[38;5;241;43m*\u001b[39;49m\u001b[43margs\u001b[49m\u001b[43m,\u001b[49m\u001b[43m \u001b[49m\u001b[38;5;241;43m*\u001b[39;49m\u001b[38;5;241;43m*\u001b[39;49m\u001b[43mkwargs\u001b[49m\u001b[43m)\u001b[49m\n",
            "File \u001b[1;32mc:\\Users\\Katana GF66 11UC\\.conda\\envs\\genshinimageclassifierCUDA\\Lib\\site-packages\\torch\\nn\\modules\\module.py:1541\u001b[0m, in \u001b[0;36mModule._call_impl\u001b[1;34m(self, *args, **kwargs)\u001b[0m\n\u001b[0;32m   1536\u001b[0m \u001b[38;5;66;03m# If we don't have any hooks, we want to skip the rest of the logic in\u001b[39;00m\n\u001b[0;32m   1537\u001b[0m \u001b[38;5;66;03m# this function, and just call forward.\u001b[39;00m\n\u001b[0;32m   1538\u001b[0m \u001b[38;5;28;01mif\u001b[39;00m \u001b[38;5;129;01mnot\u001b[39;00m (\u001b[38;5;28mself\u001b[39m\u001b[38;5;241m.\u001b[39m_backward_hooks \u001b[38;5;129;01mor\u001b[39;00m \u001b[38;5;28mself\u001b[39m\u001b[38;5;241m.\u001b[39m_backward_pre_hooks \u001b[38;5;129;01mor\u001b[39;00m \u001b[38;5;28mself\u001b[39m\u001b[38;5;241m.\u001b[39m_forward_hooks \u001b[38;5;129;01mor\u001b[39;00m \u001b[38;5;28mself\u001b[39m\u001b[38;5;241m.\u001b[39m_forward_pre_hooks\n\u001b[0;32m   1539\u001b[0m         \u001b[38;5;129;01mor\u001b[39;00m _global_backward_pre_hooks \u001b[38;5;129;01mor\u001b[39;00m _global_backward_hooks\n\u001b[0;32m   1540\u001b[0m         \u001b[38;5;129;01mor\u001b[39;00m _global_forward_hooks \u001b[38;5;129;01mor\u001b[39;00m _global_forward_pre_hooks):\n\u001b[1;32m-> 1541\u001b[0m     \u001b[38;5;28;01mreturn\u001b[39;00m \u001b[43mforward_call\u001b[49m\u001b[43m(\u001b[49m\u001b[38;5;241;43m*\u001b[39;49m\u001b[43margs\u001b[49m\u001b[43m,\u001b[49m\u001b[43m \u001b[49m\u001b[38;5;241;43m*\u001b[39;49m\u001b[38;5;241;43m*\u001b[39;49m\u001b[43mkwargs\u001b[49m\u001b[43m)\u001b[49m\n\u001b[0;32m   1543\u001b[0m \u001b[38;5;28;01mtry\u001b[39;00m:\n\u001b[0;32m   1544\u001b[0m     result \u001b[38;5;241m=\u001b[39m \u001b[38;5;28;01mNone\u001b[39;00m\n",
            "Cell \u001b[1;32mIn[20], line 31\u001b[0m, in \u001b[0;36mConvNet.forward\u001b[1;34m(self, x)\u001b[0m\n\u001b[0;32m     29\u001b[0m output \u001b[38;5;241m=\u001b[39m \u001b[38;5;28mself\u001b[39m\u001b[38;5;241m.\u001b[39mconvolution_layer1(x) \u001b[38;5;66;03m# Convolution layer 1\u001b[39;00m\n\u001b[0;32m     30\u001b[0m \u001b[38;5;66;03m#tanh activation function\u001b[39;00m\n\u001b[1;32m---> 31\u001b[0m output \u001b[38;5;241m=\u001b[39m \u001b[38;5;28;43mself\u001b[39;49m\u001b[38;5;241;43m.\u001b[39;49m\u001b[43mtanh\u001b[49m(output) \u001b[38;5;66;03m# Tanh activation function\u001b[39;00m\n\u001b[0;32m     32\u001b[0m output \u001b[38;5;241m=\u001b[39m \u001b[38;5;28mself\u001b[39m\u001b[38;5;241m.\u001b[39mconvolution_layer2(output) \u001b[38;5;66;03m# Convolution layer 2\u001b[39;00m\n\u001b[0;32m     33\u001b[0m output \u001b[38;5;241m=\u001b[39m \u001b[38;5;28mself\u001b[39m\u001b[38;5;241m.\u001b[39mtanh(output) \u001b[38;5;66;03m# Tanh activation function\u001b[39;00m\n",
            "File \u001b[1;32mc:\\Users\\Katana GF66 11UC\\.conda\\envs\\genshinimageclassifierCUDA\\Lib\\site-packages\\torch\\nn\\modules\\module.py:1709\u001b[0m, in \u001b[0;36mModule.__getattr__\u001b[1;34m(self, name)\u001b[0m\n\u001b[0;32m   1707\u001b[0m     \u001b[38;5;28;01mif\u001b[39;00m name \u001b[38;5;129;01min\u001b[39;00m modules:\n\u001b[0;32m   1708\u001b[0m         \u001b[38;5;28;01mreturn\u001b[39;00m modules[name]\n\u001b[1;32m-> 1709\u001b[0m \u001b[38;5;28;01mraise\u001b[39;00m \u001b[38;5;167;01mAttributeError\u001b[39;00m(\u001b[38;5;124mf\u001b[39m\u001b[38;5;124m\"\u001b[39m\u001b[38;5;124m'\u001b[39m\u001b[38;5;132;01m{\u001b[39;00m\u001b[38;5;28mtype\u001b[39m(\u001b[38;5;28mself\u001b[39m)\u001b[38;5;241m.\u001b[39m\u001b[38;5;18m__name__\u001b[39m\u001b[38;5;132;01m}\u001b[39;00m\u001b[38;5;124m'\u001b[39m\u001b[38;5;124m object has no attribute \u001b[39m\u001b[38;5;124m'\u001b[39m\u001b[38;5;132;01m{\u001b[39;00mname\u001b[38;5;132;01m}\u001b[39;00m\u001b[38;5;124m'\u001b[39m\u001b[38;5;124m\"\u001b[39m)\n",
            "\u001b[1;31mAttributeError\u001b[0m: 'ConvNet' object has no attribute 'tanh'"
          ]
        }
      ],
      "source": [
        "if torch.cuda.is_available():\n",
        "      model.cuda()\n",
        "\n",
        "for epoch in range(num_epochs):\n",
        "\t#Load in the data in batches using the train_loader object\n",
        "    for i, (images, labels) in enumerate(train_loader):\n",
        "        # Move tensors to the configured device\n",
        "        images = images.to(device)\n",
        "        labels = labels.to(device)\n",
        "\n",
        "        # Forward pass\n",
        "        outputs = model(images)\n",
        "        loss = lossFunction(outputs, labels)\n",
        "        print(f\"loss: {loss}\")\n",
        "\n",
        "        # Backward and optimize\n",
        "        optimizer.zero_grad()\n",
        "        loss.backward()\n",
        "        optimizer.step()\n",
        "\n",
        "    print('Epoch [{}/{}], Loss: {:.4f}'.format(epoch+1, num_epochs, loss.item()))"
      ]
    },
    {
      "cell_type": "markdown",
      "metadata": {
        "id": "LATYSdG-DFn4"
      },
      "source": [
        "## Prueba"
      ]
    },
    {
      "cell_type": "markdown",
      "metadata": {},
      "source": [
        "### Test on training data"
      ]
    },
    {
      "cell_type": "code",
      "execution_count": 18,
      "metadata": {
        "id": "0umi3jenDFMo"
      },
      "outputs": [
        {
          "name": "stdout",
          "output_type": "stream",
          "text": [
            "Accuracy of the network on the 5974 train images: 89.55473719450954 %\n"
          ]
        }
      ],
      "source": [
        "with torch.no_grad():\n",
        "    if torch.cuda.is_available():\n",
        "      model.cuda()\n",
        "    correct = 0\n",
        "    total = 0\n",
        "    for images, labels in train_loader:\n",
        "        images = images.to(device)\n",
        "        labels = labels.to(device)\n",
        "        outputs = model(images)\n",
        "        _, predicted = torch.max(outputs.data, 1)\n",
        "        total += labels.size(0)\n",
        "        correct += (predicted == labels).sum().item()\n",
        "\n",
        "    print(f'Accuracy of the network on the {train_dataset.__len__()} train images: {100 * correct / total} %')\n",
        "\n"
      ]
    },
    {
      "cell_type": "markdown",
      "metadata": {},
      "source": [
        "### Test on validation data"
      ]
    },
    {
      "cell_type": "code",
      "execution_count": 19,
      "metadata": {
        "id": "6tDrTOMfUj3y"
      },
      "outputs": [
        {
          "name": "stdout",
          "output_type": "stream",
          "text": [
            "Accuracy of the network on the 5974 train images: 35.587392550143264 %\n"
          ]
        }
      ],
      "source": [
        "with torch.no_grad():\n",
        "    if torch.cuda.is_available():\n",
        "      model.cuda()\n",
        "    correct = 0\n",
        "    total = 0\n",
        "    for images, labels in test_loader:\n",
        "        images = images.to(device)\n",
        "        labels = labels.to(device)\n",
        "        outputs = model(images)\n",
        "        _, predicted = torch.max(outputs.data, 1)\n",
        "        total += labels.size(0)\n",
        "        correct += (predicted == labels).sum().item()\n",
        "\n",
        "    print(f'Accuracy of the network on the {train_dataset.__len__()} train images: {100 * correct / total} %')\n",
        "\n"
      ]
    },
    {
      "cell_type": "markdown",
      "metadata": {
        "id": "NsgxsieYUkuu"
      },
      "source": [
        "## Save to file"
      ]
    },
    {
      "cell_type": "code",
      "execution_count": 16,
      "metadata": {
        "id": "wJPZr32HDLqy"
      },
      "outputs": [],
      "source": [
        "# prompt: save the model as a file\n",
        "\n",
        "torch.save(model.state_dict(), r'C:\\\\Users\\\\Katana GF66 11UC\\\\Documents\\\\GenshinImageClassifier\\\\models\\\\model_128_4fullyconnected_no_tanh.pt')\n"
      ]
    },
    {
      "cell_type": "markdown",
      "metadata": {},
      "source": [
        "## Share to Hugging Face"
      ]
    },
    {
      "cell_type": "code",
      "execution_count": null,
      "metadata": {},
      "outputs": [],
      "source": [
        "# hugging face PretrainedModel custom class\n"
      ]
    },
    {
      "cell_type": "markdown",
      "metadata": {
        "id": "7GNuhgUNObZA"
      },
      "source": [
        "# Open from file"
      ]
    },
    {
      "cell_type": "code",
      "execution_count": null,
      "metadata": {
        "id": "3hZG5gvHOebg"
      },
      "outputs": [],
      "source": [
        "# prompt: open and make inference from  model.pt\n",
        "\n",
        "# Import the necessary libraries\n",
        "import torch\n",
        "from torchvision import transforms\n",
        "from torchvision.datasets import ImageFolder\n",
        "from torch.utils.data import DataLoader\n",
        "\n",
        "# Load the model\n",
        "model = ConvNet(num_classes)\n",
        "model.load_state_dict(torch.load('model.pt'))\n",
        "\n",
        "# Define the data transform\n",
        "transform = transforms.Compose([\n",
        "    transforms.Resize(256),\n",
        "    transforms.CenterCrop(224),\n",
        "    transforms.ToTensor(),\n",
        "    transforms.Normalize(mean=[0.485, 0.456, 0.406], std=[0.229, 0.224, 0.225])\n",
        "])\n",
        "\n",
        "# Load the data\n",
        "data_dir = 'path/to/data'\n",
        "dataset = ImageFolder(data_dir, transform=transform)\n",
        "dataloader = DataLoader(dataset, batch_size=32, shuffle=True)\n",
        "\n",
        "# Make inference\n",
        "with torch.no_grad():\n",
        "    for images, labels in dataloader:\n",
        "        # Move the images to the device\n",
        "        images = images.to(device)\n",
        "\n",
        "        # Get the model's predictions\n",
        "        outputs = model(images)\n",
        "\n",
        "        # Get the predicted class labels\n",
        "        _, predicted = torch.max(outputs, 1)\n",
        "\n",
        "        # Print the predicted class labels\n",
        "        print(predicted)\n"
      ]
    }
  ],
  "metadata": {
    "colab": {
      "provenance": []
    },
    "kernelspec": {
      "display_name": "Python 3",
      "name": "python3"
    },
    "language_info": {
      "codemirror_mode": {
        "name": "ipython",
        "version": 3
      },
      "file_extension": ".py",
      "mimetype": "text/x-python",
      "name": "python",
      "nbconvert_exporter": "python",
      "pygments_lexer": "ipython3",
      "version": "3.11.9"
    }
  },
  "nbformat": 4,
  "nbformat_minor": 0
}
