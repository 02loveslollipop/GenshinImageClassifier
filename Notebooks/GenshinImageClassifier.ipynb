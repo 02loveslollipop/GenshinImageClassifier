{
  "nbformat": 4,
  "nbformat_minor": 0,
  "metadata": {
    "colab": {
      "provenance": [],
      "gpuType": "T4"
    },
    "kernelspec": {
      "name": "python3",
      "display_name": "Python 3"
    },
    "language_info": {
      "name": "python"
    }
  },
  "cells": [
    {
      "cell_type": "markdown",
      "source": [
        "# Import dependencies"
      ],
      "metadata": {
        "id": "WgzS86gzpqq0"
      }
    },
    {
      "cell_type": "code",
      "execution_count": 1,
      "metadata": {
        "id": "ryWTeSacpnBr"
      },
      "outputs": [],
      "source": [
        "import torch\n",
        "import torch.nn as nn\n",
        "import torchvision\n",
        "import torchvision.transforms as transforms"
      ]
    },
    {
      "cell_type": "markdown",
      "source": [
        "# Check if GPU is available"
      ],
      "metadata": {
        "id": "txr6fqmWq-_C"
      }
    },
    {
      "cell_type": "code",
      "source": [
        "!nvidia-smi -L"
      ],
      "metadata": {
        "colab": {
          "base_uri": "https://localhost:8080/"
        },
        "id": "Tk9xZIvNrCzK",
        "outputId": "643812ea-4982-4bd9-831f-0de9ceb29c07"
      },
      "execution_count": 2,
      "outputs": [
        {
          "output_type": "stream",
          "name": "stdout",
          "text": [
            "/bin/bash: line 1: nvidia-smi: command not found\n"
          ]
        }
      ]
    },
    {
      "cell_type": "markdown",
      "source": [
        "# Select GPU as device if available"
      ],
      "metadata": {
        "id": "vFRQVXafqydh"
      }
    },
    {
      "cell_type": "code",
      "source": [
        "device = torch.device('cuda:0' if torch.cuda.is_available() else 'cpu')"
      ],
      "metadata": {
        "id": "nv7bSbsTqW6s"
      },
      "execution_count": 3,
      "outputs": []
    },
    {
      "cell_type": "code",
      "source": [
        "print(device)"
      ],
      "metadata": {
        "colab": {
          "base_uri": "https://localhost:8080/"
        },
        "id": "xr8JDEM8Gy-w",
        "outputId": "008c5878-87ed-4c5f-ef48-a3d1a7875343"
      },
      "execution_count": 4,
      "outputs": [
        {
          "output_type": "stream",
          "name": "stdout",
          "text": [
            "cpu\n"
          ]
        }
      ]
    },
    {
      "cell_type": "markdown",
      "source": [
        "# Mount the Drive unit"
      ],
      "metadata": {
        "id": "DQMiHNmpszA5"
      }
    },
    {
      "cell_type": "markdown",
      "source": [
        "# Definicion del Torch Dataset personalizado"
      ],
      "metadata": {
        "id": "Qn7zLTlisOIc"
      }
    },
    {
      "cell_type": "code",
      "source": [
        "import torch\n",
        "from torch.utils.data import Dataset\n",
        "from torchvision.transforms import Compose\n",
        "import os\n",
        "import cv2\n",
        "\n",
        "class GenshinDataSet(Dataset):\n",
        "    def __init__(self, directory: str, transforms: Compose =None ) -> None:\n",
        "        self.directory = directory\n",
        "        self.characters = os.listdir(directory)\n",
        "        self.transforms = transforms\n",
        "        self.images = []\n",
        "        self.labels = []\n",
        "\n",
        "        # Load image paths and labels from your file structure (modify accordingly)\n",
        "        for character in self.characters:\n",
        "            category_path = os.path.join(directory, character)\n",
        "            label = character  # Assuming category folder name represents the label\n",
        "\n",
        "            for image_file in os.listdir(category_path):\n",
        "                image_path = os.path.join(category_path, image_file)\n",
        "                self.images.append(image_path)\n",
        "                self.labels.append(label)\n",
        "\n",
        "\n",
        "    def __getitem__(self, index) -> tuple[any, str]:\n",
        "        image = cv2.imread(self.images[index])\n",
        "        label = self.labels[index]\n",
        "\n",
        "        if image.shape[-1] == 3:\n",
        "            image = cv2.cvtColor(image, cv2.COLOR_BGR2RGB)\n",
        "\n",
        "        if self.transforms:\n",
        "            image = self.transforms(image)\n",
        "\n",
        "        return image, label\n",
        "\n",
        "    def __len__(self) -> int:\n",
        "        return len(self.images)"
      ],
      "metadata": {
        "id": "WB3Ub6A1sVOw"
      },
      "execution_count": null,
      "outputs": []
    },
    {
      "cell_type": "markdown",
      "source": [
        "# Crear Data set"
      ],
      "metadata": {
        "id": "pFDHsMo5rrsN"
      }
    },
    {
      "cell_type": "code",
      "source": [
        "batch_size = 64\n",
        "num_classes = 10\n",
        "learning_rate = 0.001\n",
        "num_epochs = 20"
      ],
      "metadata": {
        "id": "mBv9Xgpzrq89"
      },
      "execution_count": 5,
      "outputs": []
    },
    {
      "cell_type": "code",
      "source": [
        "# Use transforms.compose method to reformat images for modeling,\n",
        "# and save to variable all_transforms for later use\n",
        "all_transforms = transforms.Compose([transforms.Resize((32,32)),\n",
        "                                     transforms.ToTensor(),\n",
        "                                     transforms.Normalize(mean=[0.4914, 0.4822, 0.4465],\n",
        "                                                          std=[0.2023, 0.1994, 0.2010])\n",
        "                                     ])\n",
        "# Create Training dataset\n",
        "train_dataset = torchvision.datasets.CIFAR10(root = './data',\n",
        "                                             train = True,\n",
        "                                             transform = all_transforms,\n",
        "                                             download = True)\n",
        "print(type(train_dataset))\n",
        "# Create Testing dataset\n",
        "test_dataset = torchvision.datasets.CIFAR10(root = './data',\n",
        "                                            train = False,\n",
        "                                            transform = all_transforms,\n",
        "                                            download=True)\n",
        "\n",
        "# Instantiate loader objects to facilitate processing\n",
        "train_loader = torch.utils.data.DataLoader(dataset = train_dataset,\n",
        "                                           batch_size = batch_size,\n",
        "                                           shuffle = True)\n",
        "\n",
        "\n",
        "test_loader = torch.utils.data.DataLoader(dataset = test_dataset,\n",
        "                                           batch_size = batch_size,\n",
        "                                           shuffle = True)"
      ],
      "metadata": {
        "colab": {
          "base_uri": "https://localhost:8080/"
        },
        "id": "GV3Y93z8rUBK",
        "outputId": "a1ae8a14-bb8f-42c9-db89-0d779b011b81"
      },
      "execution_count": 6,
      "outputs": [
        {
          "output_type": "stream",
          "name": "stdout",
          "text": [
            "Files already downloaded and verified\n",
            "<class 'torchvision.datasets.cifar.CIFAR10'>\n",
            "Files already downloaded and verified\n"
          ]
        }
      ]
    },
    {
      "cell_type": "markdown",
      "source": [
        "# ConvNet"
      ],
      "metadata": {
        "id": "y065LWGRsR6v"
      }
    },
    {
      "cell_type": "code",
      "source": [
        "class ConvNet(nn.Module):\n",
        "  def __init__(self,category_count):\n",
        "    super(ConvNet,self).__init__()\n",
        "    self.convolution_layer1 = nn.Conv2d(in_channels=3,out_channels=32,kernel_size=3) # Convolution layer 1: 3 input channels (RGB), 32 output channels (32 filters), 3x3 kernel size\n",
        "    self.convolution_layer2 = nn.Conv2d(in_channels=32,out_channels=32,kernel_size=3) # Convolution layer 2: 32 input channels (32 kernels from previous layer), 32 output channels (32 filters), 3x3 kernel size\n",
        "    self.max_pool = nn.MaxPool2d(kernel_size=2,stride=2) # Max pooling layer: 2x2 kernel size, stride 2 (reduces image size by 2)\n",
        "\n",
        "    self.convolution_layer3 = nn.Conv2d(in_channels=32,out_channels=64,kernel_size=3) # Convolution layer 3: 32 input channels (32 kernels from previous layer), 64 output channels (64 filters), 3x3 kernel size\n",
        "    self.convolution_layer4 = nn.Conv2d(in_channels=64,out_channels=64,kernel_size=3)\n",
        "    self.max_pool2 = nn.MaxPool2d(kernel_size=2,stride=2) # Max pooling layer: 2x2 kernel size, stride 2 (reduces image size by 2)\n",
        "\n",
        "    self.fully_connected1 = nn.Linear(1600,128) # Fully connected layer 1: 64*5*5 input features (64 filters, 5x5 image size), 128 output features\n",
        "    self.relu = nn.ReLU() # ReLU activation function\n",
        "    self.fully_connected2 = nn.Linear(128,category_count) # Output layer: linear layer\n",
        "\n",
        "  def forward(self,x):\n",
        "    output = self.convolution_layer1(x)\n",
        "    output = self.convolution_layer2(output)\n",
        "    output = self.max_pool(output)\n",
        "\n",
        "    output = self.convolution_layer3(output)\n",
        "    output = self.convolution_layer4(output)\n",
        "    output = self.max_pool2(output)\n",
        "\n",
        "    output = output.reshape(output.size(0),-1)\n",
        "\n",
        "    output = self.fully_connected1(output)\n",
        "    output = self.relu(output)\n",
        "    output = self.fully_connected2(output)\n",
        "    return output"
      ],
      "metadata": {
        "id": "Qg5oxIg-sRsa"
      },
      "execution_count": null,
      "outputs": []
    },
    {
      "cell_type": "markdown",
      "source": [
        "# Configurando hiperparametro"
      ],
      "metadata": {
        "id": "hghM7VoMB-v9"
      }
    },
    {
      "cell_type": "code",
      "source": [
        "model = ConvNet(num_classes) # Create the model with the number of classes required\n",
        "\n",
        "lossFunction = nn.CrossEntropyLoss() # Set loss function as CrossEntropyLoss\n",
        "\n",
        "optimizer = torch.optim.SGD(model.parameters(), lr=learning_rate, weight_decay = 0.005, momentum = 0.9) # Set thr optimizer as a Stochastic Gradient Descent with the learning rate, weight decay and momentum\n",
        "\n",
        "total_step = len(train_loader) # Set the total step as the length of the train loader"
      ],
      "metadata": {
        "id": "8CNOAXoeCC-L"
      },
      "execution_count": null,
      "outputs": []
    },
    {
      "cell_type": "markdown",
      "source": [
        "# Entrenamiento"
      ],
      "metadata": {
        "id": "8K6wGaOyDC9_"
      }
    },
    {
      "cell_type": "code",
      "source": [
        "if torch.cuda.is_available():\n",
        "      model.cuda()\n",
        "\n",
        "for epoch in range(num_epochs):\n",
        "\t#Load in the data in batches using the train_loader object\n",
        "    for i, (images, labels) in enumerate(train_loader):\n",
        "        # Move tensors to the configured device\n",
        "        images = images.to(device)\n",
        "        labels = labels.to(device)\n",
        "\n",
        "        # Forward pass\n",
        "        outputs = model(images)\n",
        "        loss = lossFunction(outputs, labels)\n",
        "\n",
        "        # Backward and optimize\n",
        "        optimizer.zero_grad()\n",
        "        loss.backward()\n",
        "        optimizer.step()\n",
        "\n",
        "    print('Epoch [{}/{}], Loss: {:.4f}'.format(epoch+1, num_epochs, loss.item()))"
      ],
      "metadata": {
        "id": "wYCxi2-QCy9J"
      },
      "execution_count": null,
      "outputs": []
    },
    {
      "cell_type": "markdown",
      "source": [
        "# Prueba"
      ],
      "metadata": {
        "id": "LATYSdG-DFn4"
      }
    },
    {
      "cell_type": "code",
      "source": [
        "with torch.no_grad():\n",
        "    if torch.cuda.is_available():\n",
        "      model.cuda()\n",
        "    correct = 0\n",
        "    total = 0\n",
        "    for images, labels in train_loader:\n",
        "        images = images.to(device)\n",
        "        labels = labels.to(device)\n",
        "        outputs = model(images)\n",
        "        _, predicted = torch.max(outputs.data, 1)\n",
        "        total += labels.size(0)\n",
        "        correct += (predicted == labels).sum().item()\n",
        "\n",
        "    print('Accuracy of the network on the {} train images: {} %'.format(50000, 100 * correct / total))\n",
        "\n"
      ],
      "metadata": {
        "id": "0umi3jenDFMo"
      },
      "execution_count": null,
      "outputs": []
    },
    {
      "cell_type": "code",
      "source": [
        "# prompt: save the model as a file\n",
        "\n",
        "torch.save(model.state_dict(), 'model.pt')\n"
      ],
      "metadata": {
        "id": "wJPZr32HDLqy"
      },
      "execution_count": null,
      "outputs": []
    },
    {
      "cell_type": "markdown",
      "source": [
        "# Open from file"
      ],
      "metadata": {
        "id": "7GNuhgUNObZA"
      }
    },
    {
      "cell_type": "code",
      "source": [
        "# prompt: open and make inference from  model.pt\n",
        "\n",
        "# Import the necessary libraries\n",
        "import torch\n",
        "from torchvision import transforms\n",
        "from torchvision.datasets import ImageFolder\n",
        "from torch.utils.data import DataLoader\n",
        "\n",
        "# Load the model\n",
        "model = ConvNet(num_classes)\n",
        "model.load_state_dict(torch.load('model.pt'))\n",
        "\n",
        "# Define the data transform\n",
        "transform = transforms.Compose([\n",
        "    transforms.Resize(256),\n",
        "    transforms.CenterCrop(224),\n",
        "    transforms.ToTensor(),\n",
        "    transforms.Normalize(mean=[0.485, 0.456, 0.406], std=[0.229, 0.224, 0.225])\n",
        "])\n",
        "\n",
        "# Load the data\n",
        "data_dir = 'path/to/data'\n",
        "dataset = ImageFolder(data_dir, transform=transform)\n",
        "dataloader = DataLoader(dataset, batch_size=32, shuffle=True)\n",
        "\n",
        "# Make inference\n",
        "with torch.no_grad():\n",
        "    for images, labels in dataloader:\n",
        "        # Move the images to the device\n",
        "        images = images.to(device)\n",
        "\n",
        "        # Get the model's predictions\n",
        "        outputs = model(images)\n",
        "\n",
        "        # Get the predicted class labels\n",
        "        _, predicted = torch.max(outputs, 1)\n",
        "\n",
        "        # Print the predicted class labels\n",
        "        print(predicted)\n"
      ],
      "metadata": {
        "id": "3hZG5gvHOebg"
      },
      "execution_count": null,
      "outputs": []
    }
  ]
}