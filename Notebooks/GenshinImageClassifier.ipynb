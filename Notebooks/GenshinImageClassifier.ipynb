{
  "cells": [
    {
      "cell_type": "markdown",
      "metadata": {
        "id": "WgzS86gzpqq0"
      },
      "source": [
        "# Import dependencies"
      ]
    },
    {
      "cell_type": "code",
      "execution_count": 1,
      "metadata": {
        "id": "ryWTeSacpnBr"
      },
      "outputs": [],
      "source": [
        "import torch\n",
        "import torch.nn as nn\n",
        "import torchvision\n",
        "import torchvision.transforms as transforms"
      ]
    },
    {
      "cell_type": "markdown",
      "metadata": {
        "id": "txr6fqmWq-_C"
      },
      "source": [
        "# Check if GPU is available"
      ]
    },
    {
      "cell_type": "code",
      "execution_count": 2,
      "metadata": {
        "colab": {
          "base_uri": "https://localhost:8080/"
        },
        "id": "Tk9xZIvNrCzK",
        "outputId": "643812ea-4982-4bd9-831f-0de9ceb29c07"
      },
      "outputs": [
        {
          "name": "stdout",
          "output_type": "stream",
          "text": [
            "/bin/bash: line 1: nvidia-smi: command not found\n"
          ]
        }
      ],
      "source": [
        "!nvidia-smi -L"
      ]
    },
    {
      "cell_type": "markdown",
      "metadata": {
        "id": "vFRQVXafqydh"
      },
      "source": [
        "# Select GPU as device if available"
      ]
    },
    {
      "cell_type": "code",
      "execution_count": 3,
      "metadata": {
        "id": "nv7bSbsTqW6s"
      },
      "outputs": [],
      "source": [
        "device = torch.device('cuda:0' if torch.cuda.is_available() else 'cpu') # Select GPU if available, else CPU"
      ]
    },
    {
      "cell_type": "code",
      "execution_count": 4,
      "metadata": {
        "colab": {
          "base_uri": "https://localhost:8080/"
        },
        "id": "xr8JDEM8Gy-w",
        "outputId": "008c5878-87ed-4c5f-ef48-a3d1a7875343"
      },
      "outputs": [
        {
          "name": "stdout",
          "output_type": "stream",
          "text": [
            "cpu\n"
          ]
        }
      ],
      "source": [
        "print(device)"
      ]
    },
    {
      "cell_type": "markdown",
      "metadata": {
        "id": "DQMiHNmpszA5"
      },
      "source": [
        "# Mount the Drive unit"
      ]
    },
    {
      "cell_type": "code",
      "execution_count": null,
      "metadata": {
        "id": "RychxD8TuSpu"
      },
      "outputs": [],
      "source": [
        "from google.colab import drive # Mount Google Drive to access dataset\n",
        "drive.mount('/content/gdrive/GenshinImageClassifier', force_remount=True)"
      ]
    },
    {
      "cell_type": "markdown",
      "metadata": {
        "id": "Qn7zLTlisOIc"
      },
      "source": [
        "# Define custom torch dataset class"
      ]
    },
    {
      "cell_type": "code",
      "execution_count": null,
      "metadata": {
        "id": "WB3Ub6A1sVOw"
      },
      "outputs": [],
      "source": [
        "# Description: Custom dataset class for loading images and labels from a directory\n",
        "import torch\n",
        "from torch.utils.data import Dataset\n",
        "from torchvision.transforms import Compose\n",
        "import os\n",
        "import cv2\n",
        "\n",
        "class GenshinDataSet(Dataset):\n",
        "    def __init__(self, directory: str, transforms: Compose =None ) -> None:\n",
        "        self.directory = directory # path to the dataset directory\n",
        "        self.characters = os.listdir(directory) # List of characters as folder names\n",
        "        self.transforms = transforms # Image transformations\n",
        "        self.images = [] # List of image paths\n",
        "        self.labels = [] # List of labels\n",
        "        \n",
        "        for character in self.characters: # Loop through the list of characters to get the images and labels \n",
        "            category_path = os.path.join(directory, character) # Path to the character folder\n",
        "            label = character  # the label is the name of the folder\n",
        "\n",
        "            for image_file in os.listdir(category_path): # Loop through the images in the character folder\n",
        "                image_path = os.path.join(category_path, image_file) \n",
        "                self.images.append(image_path) # Add the image path to the images list\n",
        "                self.labels.append(label) # Add the label to the labels list    \n",
        "\n",
        "\n",
        "    def __getitem__(self, index) -> tuple[any, str]: # Get the image and label at the specified index\n",
        "        image = cv2.imread(self.images[index]) # Read the image\n",
        "        label = self.labels[index] # Get the label\n",
        "\n",
        "        if image.shape[-1] == 3: # cv2 may read the image in BGR format, convert it to RGB format\n",
        "            image = cv2.cvtColor(image, cv2.COLOR_BGR2RGB)\n",
        "        \n",
        "        if self.transforms: # Apply the transformations to the image if provided\n",
        "            image = self.transforms(image)\n",
        "\n",
        "        return image, label # Return the image and label as a tuple\n",
        "\n",
        "    def __len__(self) -> int:\n",
        "        return len(self.images) # Return the number of images in the dataset that corresponds to the length of the dataset"
      ]
    },
    {
      "cell_type": "markdown",
      "metadata": {
        "id": "pFDHsMo5rrsN"
      },
      "source": [
        "# Create dataset with transforms"
      ]
    },
    {
      "cell_type": "code",
      "execution_count": 5,
      "metadata": {
        "id": "mBv9Xgpzrq89"
      },
      "outputs": [],
      "source": [
        "mean = [0.4914, 0.4822, 0.4465] # Mean values for normalization, get from normalizationParameters.py\n",
        "std = [0.2023, 0.1994, 0.2010] # Standard deviation values for normalization, get from normalizationParameters.py\n",
        "size = 32 # Image resolution for the model input\n",
        "\n",
        "batch_size = 64\n",
        "num_classes = 10\n",
        "learning_rate = 0.001\n",
        "num_epochs = 20"
      ]
    },
    {
      "cell_type": "code",
      "execution_count": 6,
      "metadata": {
        "colab": {
          "base_uri": "https://localhost:8080/"
        },
        "id": "GV3Y93z8rUBK",
        "outputId": "a1ae8a14-bb8f-42c9-db89-0d779b011b81"
      },
      "outputs": [
        {
          "name": "stdout",
          "output_type": "stream",
          "text": [
            "Files already downloaded and verified\n",
            "<class 'torchvision.datasets.cifar.CIFAR10'>\n",
            "Files already downloaded and verified\n"
          ]
        }
      ],
      "source": [
        "all_transforms = transforms.Compose([transforms.Resize((size,size)),\n",
        "                                     transforms.ToTensor(),\n",
        "                                     transforms.Normalize(mean=mean, std=std)\n",
        "                                     ])\n",
        "\n",
        "train_dataset = GenshinDataSet(directory = '/content/processed_images/', transforms = all_transforms) # Load the training dataset\n",
        "print(type(train_dataset))\n",
        "# Create Testing dataset\n",
        "test_dataset = GenshinDataSet(directory = '/content/processed_images_test/', transforms = all_transforms) # Load the testing dataset\n",
        "\n",
        "train_loader = torch.utils.data.DataLoader(dataset = train_dataset,\n",
        "                                           batch_size = batch_size,\n",
        "                                           shuffle = True) # Instantiate loader objects to facilitate processing\n",
        "\n",
        "test_loader = torch.utils.data.DataLoader(dataset = test_dataset,\n",
        "                                           batch_size = batch_size,\n",
        "                                           shuffle = True) # Instantiate loader objects to facilitate processing"
      ]
    },
    {
      "cell_type": "markdown",
      "metadata": {
        "id": "y065LWGRsR6v"
      },
      "source": [
        "# ConvNet"
      ]
    },
    {
      "cell_type": "code",
      "execution_count": null,
      "metadata": {
        "id": "Qg5oxIg-sRsa"
      },
      "outputs": [],
      "source": [
        "class ConvNet(nn.Module):\n",
        "  def __init__(self,category_count):\n",
        "    super(ConvNet,self).__init__()\n",
        "    self.convolution_layer1 = nn.Conv2d(in_channels=3,out_channels=32,kernel_size=3) # Convolution layer 1: 3 input channels (RGB), 32 output channels (32 filters), 3x3 kernel size\n",
        "    self.convolution_layer2 = nn.Conv2d(in_channels=32,out_channels=32,kernel_size=3) # Convolution layer 2: 32 input channels (32 kernels from previous layer), 32 output channels (32 filters), 3x3 kernel size\n",
        "    self.max_pool = nn.MaxPool2d(kernel_size=2,stride=2) # Max pooling layer: 2x2 kernel size, stride 2 (reduces image size by 2)\n",
        "\n",
        "    self.convolution_layer3 = nn.Conv2d(in_channels=32,out_channels=64,kernel_size=3) # Convolution layer 3: 32 input channels (32 kernels from previous layer), 64 output channels (64 filters), 3x3 kernel size\n",
        "    self.convolution_layer4 = nn.Conv2d(in_channels=64,out_channels=64,kernel_size=3)\n",
        "    self.max_pool2 = nn.MaxPool2d(kernel_size=2,stride=2) # Max pooling layer: 2x2 kernel size, stride 2 (reduces image size by 2)\n",
        "\n",
        "    self.fully_connected1 = nn.Linear(1600,128) # Fully connected layer 1: 64*5*5 input features (64 filters, 5x5 image size), 128 output features\n",
        "    self.relu = nn.ReLU() # ReLU activation function\n",
        "    self.fully_connected2 = nn.Linear(128,category_count) # Output layer: linear layer\n",
        "\n",
        "  def forward(self,x):\n",
        "    output = self.convolution_layer1(x)\n",
        "    output = self.convolution_layer2(output)\n",
        "    output = self.max_pool(output)\n",
        "\n",
        "    output = self.convolution_layer3(output)\n",
        "    output = self.convolution_layer4(output)\n",
        "    output = self.max_pool2(output)\n",
        "\n",
        "    output = output.reshape(output.size(0),-1)\n",
        "\n",
        "    output = self.fully_connected1(output)\n",
        "    output = self.relu(output)\n",
        "    output = self.fully_connected2(output)\n",
        "    return output"
      ]
    },
    {
      "cell_type": "markdown",
      "metadata": {
        "id": "hghM7VoMB-v9"
      },
      "source": [
        "# Configurando hiperparametro"
      ]
    },
    {
      "cell_type": "code",
      "execution_count": null,
      "metadata": {
        "id": "8CNOAXoeCC-L"
      },
      "outputs": [],
      "source": [
        "model = ConvNet(num_classes) # Create the model with the number of classes required\n",
        "\n",
        "lossFunction = nn.CrossEntropyLoss() # Set loss function as CrossEntropyLoss\n",
        "\n",
        "optimizer = torch.optim.SGD(model.parameters(), lr=learning_rate, weight_decay = 0.005, momentum = 0.9) # Set thr optimizer as a Stochastic Gradient Descent with the learning rate, weight decay and momentum\n",
        "\n",
        "total_step = len(train_loader) # Set the total step as the length of the train loader"
      ]
    },
    {
      "cell_type": "markdown",
      "metadata": {
        "id": "8K6wGaOyDC9_"
      },
      "source": [
        "# Entrenamiento"
      ]
    },
    {
      "cell_type": "code",
      "execution_count": null,
      "metadata": {
        "id": "wYCxi2-QCy9J"
      },
      "outputs": [],
      "source": [
        "if torch.cuda.is_available():\n",
        "      model.cuda()\n",
        "\n",
        "for epoch in range(num_epochs):\n",
        "\t#Load in the data in batches using the train_loader object\n",
        "    for i, (images, labels) in enumerate(train_loader):\n",
        "        # Move tensors to the configured device\n",
        "        images = images.to(device)\n",
        "        labels = labels.to(device)\n",
        "\n",
        "        # Forward pass\n",
        "        outputs = model(images)\n",
        "        loss = lossFunction(outputs, labels)\n",
        "\n",
        "        # Backward and optimize\n",
        "        optimizer.zero_grad()\n",
        "        loss.backward()\n",
        "        optimizer.step()\n",
        "\n",
        "    print('Epoch [{}/{}], Loss: {:.4f}'.format(epoch+1, num_epochs, loss.item()))"
      ]
    },
    {
      "cell_type": "markdown",
      "metadata": {
        "id": "LATYSdG-DFn4"
      },
      "source": [
        "# Prueba"
      ]
    },
    {
      "cell_type": "code",
      "execution_count": null,
      "metadata": {
        "id": "0umi3jenDFMo"
      },
      "outputs": [],
      "source": [
        "with torch.no_grad():\n",
        "    if torch.cuda.is_available():\n",
        "      model.cuda()\n",
        "    correct = 0\n",
        "    total = 0\n",
        "    for images, labels in train_loader:\n",
        "        images = images.to(device)\n",
        "        labels = labels.to(device)\n",
        "        outputs = model(images)\n",
        "        _, predicted = torch.max(outputs.data, 1)\n",
        "        total += labels.size(0)\n",
        "        correct += (predicted == labels).sum().item()\n",
        "\n",
        "    print('Accuracy of the network on the {} train images: {} %'.format(50000, 100 * correct / total))\n",
        "\n"
      ]
    },
    {
      "cell_type": "code",
      "execution_count": null,
      "metadata": {
        "id": "wJPZr32HDLqy"
      },
      "outputs": [],
      "source": [
        "# prompt: save the model as a file\n",
        "\n",
        "torch.save(model.state_dict(), 'model.pt')\n"
      ]
    },
    {
      "cell_type": "markdown",
      "metadata": {
        "id": "7GNuhgUNObZA"
      },
      "source": [
        "# Open from file"
      ]
    },
    {
      "cell_type": "code",
      "execution_count": null,
      "metadata": {
        "id": "3hZG5gvHOebg"
      },
      "outputs": [],
      "source": [
        "# prompt: open and make inference from  model.pt\n",
        "\n",
        "# Import the necessary libraries\n",
        "import torch\n",
        "from torchvision import transforms\n",
        "from torchvision.datasets import ImageFolder\n",
        "from torch.utils.data import DataLoader\n",
        "\n",
        "# Load the model\n",
        "model = ConvNet(num_classes)\n",
        "model.load_state_dict(torch.load('model.pt'))\n",
        "\n",
        "# Define the data transform\n",
        "transform = transforms.Compose([\n",
        "    transforms.Resize(256),\n",
        "    transforms.CenterCrop(224),\n",
        "    transforms.ToTensor(),\n",
        "    transforms.Normalize(mean=[0.485, 0.456, 0.406], std=[0.229, 0.224, 0.225])\n",
        "])\n",
        "\n",
        "# Load the data\n",
        "data_dir = 'path/to/data'\n",
        "dataset = ImageFolder(data_dir, transform=transform)\n",
        "dataloader = DataLoader(dataset, batch_size=32, shuffle=True)\n",
        "\n",
        "# Make inference\n",
        "with torch.no_grad():\n",
        "    for images, labels in dataloader:\n",
        "        # Move the images to the device\n",
        "        images = images.to(device)\n",
        "\n",
        "        # Get the model's predictions\n",
        "        outputs = model(images)\n",
        "\n",
        "        # Get the predicted class labels\n",
        "        _, predicted = torch.max(outputs, 1)\n",
        "\n",
        "        # Print the predicted class labels\n",
        "        print(predicted)\n"
      ]
    }
  ],
  "metadata": {
    "colab": {
      "gpuType": "T4",
      "provenance": []
    },
    "kernelspec": {
      "display_name": "Python 3",
      "name": "python3"
    },
    "language_info": {
      "name": "python",
      "version": "3.11.9"
    }
  },
  "nbformat": 4,
  "nbformat_minor": 0
}
